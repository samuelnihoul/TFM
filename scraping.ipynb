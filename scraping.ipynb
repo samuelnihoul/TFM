{
 "cells": [
  {
   "cell_type": "code",
   "execution_count": 3,
   "metadata": {},
   "outputs": [],
   "source": [
    "from bs4 import BeautifulSoup\n",
    "soup=BeautifulSoup()"
   ]
  },
  {
   "cell_type": "code",
   "execution_count": 4,
   "metadata": {},
   "outputs": [
    {
     "name": "stdout",
     "output_type": "stream",
     "text": [
      "https://www.nasa.gov\n",
      "/\n",
      "#page\n",
      "javascript:void(0);\n"
     ]
    },
    {
     "ename": "KeyError",
     "evalue": "'href'",
     "output_type": "error",
     "traceback": [
      "\u001b[0;31m---------------------------------------------------------------------------\u001b[0m",
      "\u001b[0;31mKeyError\u001b[0m                                  Traceback (most recent call last)",
      "\u001b[1;32m/home/he/tfm/scraping.ipynb Cell 2'\u001b[0m in \u001b[0;36m<cell line: 6>\u001b[0;34m()\u001b[0m\n\u001b[1;32m      <a href='vscode-notebook-cell://ssh-remote%2B192.168.1.34/home/he/tfm/scraping.ipynb#ch0000001vscode-remote?line=4'>5</a>\u001b[0m status, response \u001b[39m=\u001b[39m http\u001b[39m.\u001b[39mrequest(\u001b[39m'\u001b[39m\u001b[39mhttps://climate.nasa.gov/newsletter-archive/?page=0&per_page=12&order=sent_at+desc&search=\u001b[39m\u001b[39m'\u001b[39m)\n\u001b[1;32m      <a href='vscode-notebook-cell://ssh-remote%2B192.168.1.34/home/he/tfm/scraping.ipynb#ch0000001vscode-remote?line=5'>6</a>\u001b[0m \u001b[39mfor\u001b[39;00m link \u001b[39min\u001b[39;00m BeautifulSoup(response, parse_only\u001b[39m=\u001b[39mSoupStrainer(\u001b[39m'\u001b[39m\u001b[39ma\u001b[39m\u001b[39m'\u001b[39m)):\n\u001b[0;32m----> <a href='vscode-notebook-cell://ssh-remote%2B192.168.1.34/home/he/tfm/scraping.ipynb#ch0000001vscode-remote?line=6'>7</a>\u001b[0m     \u001b[39mprint\u001b[39m(link[\u001b[39m'\u001b[39;49m\u001b[39mhref\u001b[39;49m\u001b[39m'\u001b[39;49m])\n",
      "File \u001b[0;32m~/.local/lib/python3.10/site-packages/bs4/element.py:1519\u001b[0m, in \u001b[0;36mTag.__getitem__\u001b[0;34m(self, key)\u001b[0m\n\u001b[1;32m   1516\u001b[0m \u001b[39mdef\u001b[39;00m \u001b[39m__getitem__\u001b[39m(\u001b[39mself\u001b[39m, key):\n\u001b[1;32m   1517\u001b[0m     \u001b[39m\"\"\"tag[key] returns the value of the 'key' attribute for the Tag,\u001b[39;00m\n\u001b[1;32m   1518\u001b[0m \u001b[39m    and throws an exception if it's not there.\"\"\"\u001b[39;00m\n\u001b[0;32m-> 1519\u001b[0m     \u001b[39mreturn\u001b[39;00m \u001b[39mself\u001b[39;49m\u001b[39m.\u001b[39;49mattrs[key]\n",
      "\u001b[0;31mKeyError\u001b[0m: 'href'"
     ]
    }
   ],
   "source": [
    "import httplib2\n",
    "from bs4 import BeautifulSoup, SoupStrainer\n",
    "\n",
    "http = httplib2.Http()\n",
    "status, response = http.request('https://climate.nasa.gov/newsletter-archive/?page=0&per_page=12&order=sent_at+desc&search=')\n",
    "for link in BeautifulSoup(response, parse_only=SoupStrainer('a')):\n",
    "    print(link['href'])"
   ]
  },
  {
   "cell_type": "code",
   "execution_count": null,
   "metadata": {},
   "outputs": [
    {
     "ename": "NameError",
     "evalue": "name 'BeautifulSoup' is not defined",
     "output_type": "error",
     "traceback": [
      "\u001b[0;31m---------------------------------------------------------------------------\u001b[0m",
      "\u001b[0;31mNameError\u001b[0m                                 Traceback (most recent call last)",
      "\u001b[1;32m/home/he/tfm/scraping.ipynb Cell 1'\u001b[0m in \u001b[0;36m<cell line: 3>\u001b[0;34m()\u001b[0m\n\u001b[1;32m      <a href='vscode-notebook-cell://ssh-remote%2B192.168.1.34/home/he/tfm/scraping.ipynb#ch0000000vscode-remote?line=2'>3</a>\u001b[0m \u001b[39mfor\u001b[39;00m i \u001b[39min\u001b[39;00m \u001b[39mrange\u001b[39m(\u001b[39m20\u001b[39m,\u001b[39m21\u001b[39m):\n\u001b[1;32m      <a href='vscode-notebook-cell://ssh-remote%2B192.168.1.34/home/he/tfm/scraping.ipynb#ch0000000vscode-remote?line=3'>4</a>\u001b[0m     status,response\u001b[39m=\u001b[39mhttp\u001b[39m.\u001b[39mrequest(\u001b[39mf\u001b[39m\u001b[39m'\u001b[39m\u001b[39mhttps://climate.nasa.gov/newsletters/\u001b[39m\u001b[39m{\u001b[39;00mi\u001b[39m}\u001b[39;00m\u001b[39m'\u001b[39m)\n\u001b[0;32m----> <a href='vscode-notebook-cell://ssh-remote%2B192.168.1.34/home/he/tfm/scraping.ipynb#ch0000000vscode-remote?line=4'>5</a>\u001b[0m     \u001b[39mfor\u001b[39;00m link \u001b[39min\u001b[39;00m BeautifulSoup(response, parse_only\u001b[39m=\u001b[39mSoupStrainer(\u001b[39m'\u001b[39m\u001b[39ma\u001b[39m\u001b[39m'\u001b[39m)):\n\u001b[1;32m      <a href='vscode-notebook-cell://ssh-remote%2B192.168.1.34/home/he/tfm/scraping.ipynb#ch0000000vscode-remote?line=5'>6</a>\u001b[0m         \u001b[39mif\u001b[39;00m link\u001b[39m.\u001b[39mhas_attr(\u001b[39m'\u001b[39m\u001b[39mhref\u001b[39m\u001b[39m'\u001b[39m):\n\u001b[1;32m      <a href='vscode-notebook-cell://ssh-remote%2B192.168.1.34/home/he/tfm/scraping.ipynb#ch0000000vscode-remote?line=6'>7</a>\u001b[0m             \u001b[39mif\u001b[39;00m link[\u001b[39m'\u001b[39m\u001b[39mhref\u001b[39m\u001b[39m'\u001b[39m]\u001b[39m.\u001b[39mstartswith(\u001b[39m'\u001b[39m\u001b[39mhttps://climate.nasa.gov/\u001b[39m\u001b[39m'\u001b[39m):\n",
      "\u001b[0;31mNameError\u001b[0m: name 'BeautifulSoup' is not defined"
     ]
    }
   ],
   "source": [
    "\n",
    "import httplib2\n",
    "http=httplib2.Http()\n",
    "for i in range(20,21):\n",
    "    status,response=http.request(f'https://climate.nasa.gov/newsletters/{i}')\n",
    "    for link in BeautifulSoup(response, parse_only=SoupStrainer('a')):\n",
    "        if link.has_attr('href'):\n",
    "            if link['href'].startswith('https://climate.nasa.gov/'):\n",
    "                with open ('nasaLinks.md', 'w') as a:\n",
    "                    a.write(link['href'])\n",
    "\n",
    "\n",
    "    "
   ]
  },
  {
   "cell_type": "code",
   "execution_count": 11,
   "metadata": {},
   "outputs": [],
   "source": [
    "\n",
    "\n",
    "for i in range(53,80):\n",
    "    status,response=http.request(f'https://climate.nasa.gov/newsletters/{i}')\n",
    "    for link in BeautifulSoup(response,'html.parser').find_all('a', href=True):\n",
    "        \n",
    "        if link['href'].startswith('https://climate.nasa.gov/'):\n",
    "            with open ('nasaLinks.md', 'a+') as a:\n",
    "                a.write(link['href']+'\\n')\n",
    "                \n",
    "\n",
    "\n",
    "    "
   ]
  },
  {
   "cell_type": "code",
   "execution_count": 2,
   "metadata": {},
   "outputs": [
    {
     "ename": "FileNotFoundError",
     "evalue": "[Errno 2] No such file or directory: 'https://cl.md'",
     "output_type": "error",
     "traceback": [
      "\u001b[0;31m---------------------------------------------------------------------------\u001b[0m",
      "\u001b[0;31mFileNotFoundError\u001b[0m                         Traceback (most recent call last)",
      "\u001b[1;32m/home/he/tfm/scraping.ipynb Cell 5'\u001b[0m in \u001b[0;36m<cell line: 3>\u001b[0;34m()\u001b[0m\n\u001b[1;32m      <a href='vscode-notebook-cell://ssh-remote%2B192.168.1.34/home/he/tfm/scraping.ipynb#ch0000004vscode-remote?line=2'>3</a>\u001b[0m \u001b[39mwith\u001b[39;00m \u001b[39mopen\u001b[39m (\u001b[39m'\u001b[39m\u001b[39mnasaLinks.md\u001b[39m\u001b[39m'\u001b[39m, \u001b[39m'\u001b[39m\u001b[39mr\u001b[39m\u001b[39m'\u001b[39m) \u001b[39mas\u001b[39;00m a:\n\u001b[1;32m      <a href='vscode-notebook-cell://ssh-remote%2B192.168.1.34/home/he/tfm/scraping.ipynb#ch0000004vscode-remote?line=3'>4</a>\u001b[0m     \u001b[39mfor\u001b[39;00m line \u001b[39min\u001b[39;00m a:\n\u001b[0;32m----> <a href='vscode-notebook-cell://ssh-remote%2B192.168.1.34/home/he/tfm/scraping.ipynb#ch0000004vscode-remote?line=4'>5</a>\u001b[0m         \u001b[39mwith\u001b[39;00m \u001b[39mopen\u001b[39;49m(\u001b[39mf\u001b[39;49m\u001b[39m'\u001b[39;49m\u001b[39m{\u001b[39;49;00mline[:\u001b[39m10\u001b[39;49m]\u001b[39m}\u001b[39;49;00m\u001b[39m.md\u001b[39;49m\u001b[39m'\u001b[39;49m, \u001b[39m'\u001b[39;49m\u001b[39mw\u001b[39;49m\u001b[39m'\u001b[39;49m) \u001b[39mas\u001b[39;00m f:\n\u001b[1;32m      <a href='vscode-notebook-cell://ssh-remote%2B192.168.1.34/home/he/tfm/scraping.ipynb#ch0000004vscode-remote?line=5'>6</a>\u001b[0m             status,response\u001b[39m=\u001b[39mhttp\u001b[39m.\u001b[39mrequest(line)\n\u001b[1;32m      <a href='vscode-notebook-cell://ssh-remote%2B192.168.1.34/home/he/tfm/scraping.ipynb#ch0000004vscode-remote?line=6'>7</a>\u001b[0m             soup\u001b[39m=\u001b[39mBeautifulSoup(response, \u001b[39m'\u001b[39m\u001b[39mhtml.parser\u001b[39m\u001b[39m'\u001b[39m)\n",
      "\u001b[0;31mFileNotFoundError\u001b[0m: [Errno 2] No such file or directory: 'https://cl.md'"
     ]
    }
   ],
   "source": [
    "# get the text from the links in nasaLinks.md\n",
    "# each link should be printed in a new file\n",
    "with open ('nasaLinks.md', 'r') as a:\n",
    "    for line in a:\n",
    "        with open(f'{line[:10]}.md', 'w') as f:\n",
    "            status,response=http.request(line)\n",
    "            soup=BeautifulSoup(response, 'html.parser')\n",
    "            for p in soup.find_all('p'):\n",
    "                f.write(p.text)"
   ]
  }
 ],
 "metadata": {
  "interpreter": {
   "hash": "916dbcbb3f70747c44a77c7bcd40155683ae19c65e1c03b4aa3499c5328201f1"
  },
  "kernelspec": {
   "display_name": "Python 3.8.10 64-bit",
   "language": "python",
   "name": "python3"
  },
  "language_info": {
   "codemirror_mode": {
    "name": "ipython",
    "version": 3
   },
   "file_extension": ".py",
   "mimetype": "text/x-python",
   "name": "python",
   "nbconvert_exporter": "python",
   "pygments_lexer": "ipython3",
   "version": "3.10.4"
  },
  "orig_nbformat": 4
 },
 "nbformat": 4,
 "nbformat_minor": 2
}
