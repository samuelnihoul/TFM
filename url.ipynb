{
 "cells": [
  {
   "cell_type": "code",
   "execution_count": 1,
   "metadata": {},
   "outputs": [],
   "source": [
    "from bs4 import BeautifulSoup"
   ]
  },
  {
   "cell_type": "code",
   "execution_count": 9,
   "metadata": {},
   "outputs": [
    {
     "name": "stdout",
     "output_type": "stream",
     "text": [
      "<_io.TextIOWrapper name='New folder/WMO_United_In_Science_2021_en.pdf' mode='r' encoding='UTF-8'>\n"
     ]
    },
    {
     "ename": "FeatureNotFound",
     "evalue": "Couldn't find a tree builder with the features you requested: pdf.parser. Do you need to install a parser library?",
     "output_type": "error",
     "traceback": [
      "\u001b[0;31m---------------------------------------------------------------------------\u001b[0m",
      "\u001b[0;31mFeatureNotFound\u001b[0m                           Traceback (most recent call last)",
      "\u001b[1;32m/home/he/tfm/url.ipynb Cell 2'\u001b[0m in \u001b[0;36m<cell line: 1>\u001b[0;34m()\u001b[0m\n\u001b[1;32m      <a href='vscode-notebook-cell://ssh-remote%2B7b22686f73744e616d65223a2238362e3235332e312e323034222c2275736572223a226865227d/home/he/tfm/url.ipynb#ch0000001vscode-remote?line=0'>1</a>\u001b[0m \u001b[39mwith\u001b[39;00m \u001b[39mopen\u001b[39m (\u001b[39m'\u001b[39m\u001b[39mNew folder/WMO_United_In_Science_2021_en.pdf\u001b[39m\u001b[39m'\u001b[39m,\u001b[39m'\u001b[39m\u001b[39mr\u001b[39m\u001b[39m'\u001b[39m) \u001b[39mas\u001b[39;00m file:\n\u001b[1;32m      <a href='vscode-notebook-cell://ssh-remote%2B7b22686f73744e616d65223a2238362e3235332e312e323034222c2275736572223a226865227d/home/he/tfm/url.ipynb#ch0000001vscode-remote?line=1'>2</a>\u001b[0m     \u001b[39mprint\u001b[39m(file) \n\u001b[0;32m----> <a href='vscode-notebook-cell://ssh-remote%2B7b22686f73744e616d65223a2238362e3235332e312e323034222c2275736572223a226865227d/home/he/tfm/url.ipynb#ch0000001vscode-remote?line=2'>3</a>\u001b[0m     soup\u001b[39m=\u001b[39mBeautifulSoup(file, features\u001b[39m=\u001b[39;49m\u001b[39m'\u001b[39;49m\u001b[39mpdf.parser\u001b[39;49m\u001b[39m'\u001b[39;49m)\n\u001b[1;32m      <a href='vscode-notebook-cell://ssh-remote%2B7b22686f73744e616d65223a2238362e3235332e312e323034222c2275736572223a226865227d/home/he/tfm/url.ipynb#ch0000001vscode-remote?line=3'>4</a>\u001b[0m     text\u001b[39m=\u001b[39msoup\u001b[39m.\u001b[39mget_text()\n\u001b[1;32m      <a href='vscode-notebook-cell://ssh-remote%2B7b22686f73744e616d65223a2238362e3235332e312e323034222c2275736572223a226865227d/home/he/tfm/url.ipynb#ch0000001vscode-remote?line=4'>5</a>\u001b[0m     \u001b[39mprint\u001b[39m(text)\n",
      "File \u001b[0;32m~/.local/lib/python3.10/site-packages/bs4/__init__.py:248\u001b[0m, in \u001b[0;36mBeautifulSoup.__init__\u001b[0;34m(self, markup, features, builder, parse_only, from_encoding, exclude_encodings, element_classes, **kwargs)\u001b[0m\n\u001b[1;32m    <a href='file:///home/he/.local/lib/python3.10/site-packages/bs4/__init__.py?line=245'>246</a>\u001b[0m     builder_class \u001b[39m=\u001b[39m builder_registry\u001b[39m.\u001b[39mlookup(\u001b[39m*\u001b[39mfeatures)\n\u001b[1;32m    <a href='file:///home/he/.local/lib/python3.10/site-packages/bs4/__init__.py?line=246'>247</a>\u001b[0m     \u001b[39mif\u001b[39;00m builder_class \u001b[39mis\u001b[39;00m \u001b[39mNone\u001b[39;00m:\n\u001b[0;32m--> <a href='file:///home/he/.local/lib/python3.10/site-packages/bs4/__init__.py?line=247'>248</a>\u001b[0m         \u001b[39mraise\u001b[39;00m FeatureNotFound(\n\u001b[1;32m    <a href='file:///home/he/.local/lib/python3.10/site-packages/bs4/__init__.py?line=248'>249</a>\u001b[0m             \u001b[39m\"\u001b[39m\u001b[39mCouldn\u001b[39m\u001b[39m'\u001b[39m\u001b[39mt find a tree builder with the features you \u001b[39m\u001b[39m\"\u001b[39m\n\u001b[1;32m    <a href='file:///home/he/.local/lib/python3.10/site-packages/bs4/__init__.py?line=249'>250</a>\u001b[0m             \u001b[39m\"\u001b[39m\u001b[39mrequested: \u001b[39m\u001b[39m%s\u001b[39;00m\u001b[39m. Do you need to install a parser library?\u001b[39m\u001b[39m\"\u001b[39m\n\u001b[1;32m    <a href='file:///home/he/.local/lib/python3.10/site-packages/bs4/__init__.py?line=250'>251</a>\u001b[0m             \u001b[39m%\u001b[39m \u001b[39m\"\u001b[39m\u001b[39m,\u001b[39m\u001b[39m\"\u001b[39m\u001b[39m.\u001b[39mjoin(features))\n\u001b[1;32m    <a href='file:///home/he/.local/lib/python3.10/site-packages/bs4/__init__.py?line=252'>253</a>\u001b[0m \u001b[39m# At this point either we have a TreeBuilder instance in\u001b[39;00m\n\u001b[1;32m    <a href='file:///home/he/.local/lib/python3.10/site-packages/bs4/__init__.py?line=253'>254</a>\u001b[0m \u001b[39m# builder, or we have a builder_class that we can instantiate\u001b[39;00m\n\u001b[1;32m    <a href='file:///home/he/.local/lib/python3.10/site-packages/bs4/__init__.py?line=254'>255</a>\u001b[0m \u001b[39m# with the remaining **kwargs.\u001b[39;00m\n\u001b[1;32m    <a href='file:///home/he/.local/lib/python3.10/site-packages/bs4/__init__.py?line=255'>256</a>\u001b[0m \u001b[39mif\u001b[39;00m builder \u001b[39mis\u001b[39;00m \u001b[39mNone\u001b[39;00m:\n",
      "\u001b[0;31mFeatureNotFound\u001b[0m: Couldn't find a tree builder with the features you requested: pdf.parser. Do you need to install a parser library?"
     ]
    }
   ],
   "source": [
    "with open ('New folder/WMO_United_In_Science_2021_en.pdf','r') as file:\n",
    "    print(file) \n",
    "    soup=BeautifulSoup(file, features='pdf.parser')\n",
    "    text=soup.get_text()\n",
    "    print(text)"
   ]
  },
  {
   "cell_type": "code",
   "execution_count": null,
   "metadata": {},
   "outputs": [],
   "source": [
    "with open ('output' as file):\n",
    "    "
   ]
  },
  {
   "cell_type": "code",
   "execution_count": null,
   "metadata": {},
   "outputs": [],
   "source": []
  }
 ],
 "metadata": {
  "interpreter": {
   "hash": "916dbcbb3f70747c44a77c7bcd40155683ae19c65e1c03b4aa3499c5328201f1"
  },
  "kernelspec": {
   "display_name": "Python 3.10.4 64-bit",
   "language": "python",
   "name": "python3"
  },
  "language_info": {
   "codemirror_mode": {
    "name": "ipython",
    "version": 3
   },
   "file_extension": ".py",
   "mimetype": "text/x-python",
   "name": "python",
   "nbconvert_exporter": "python",
   "pygments_lexer": "ipython3",
   "version": "3.10.4"
  },
  "orig_nbformat": 4
 },
 "nbformat": 4,
 "nbformat_minor": 2
}
